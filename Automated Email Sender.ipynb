{
 "cells": [
  {
   "cell_type": "markdown",
   "id": "a89c99d0-bfd0-4a33-a3aa-c0f6f5dcaee1",
   "metadata": {},
   "source": [
    "# This code work to send \"Email\" only for one recipients."
   ]
  },
  {
   "cell_type": "code",
   "execution_count": null,
   "id": "f376ad07-8047-4f7c-9507-093f6ed34d49",
   "metadata": {},
   "outputs": [],
   "source": [
    "import smtplib\n",
    "\n",
    "# Get email details from user\n",
    "email = input(\"SENDER EMAIL: \")\n",
    "receiver_email = input(\"RECEIVER EMAIL: \")\n",
    "subject = input(\"SUBJECT: \")\n",
    "message = input(\"MESSAGE: \")\n",
    "\n",
    "# Construct the email content\n",
    "text = f\"Subject: {subject}\\n\\n{message}\"\n",
    "\n",
    "# Connect to Gmail SMTP server\n",
    "server = smtplib.SMTP(\"smtp.gmail.com\", 587)\n",
    "server.starttls()\n",
    "\n",
    "# Login with your App Password (not your Gmail password)\n",
    "server.login(email, \"fnmxqsmsgpfzrlwq\")\n",
    "\n",
    "# Send the email\n",
    "server.sendmail(email, receiver_email, text)\n",
    "\n",
    "# Close the connection\n",
    "\n",
    "server.quit()\n",
    "\n",
    "print(\"Email has been sent to \" + receiver_email)\n"
   ]
  },
  {
   "cell_type": "markdown",
   "id": "0f5b5c14-962a-4ffb-af94-0eaa1230ec5f",
   "metadata": {},
   "source": [
    "# This code will work to send \"Email\" to multiple recipients."
   ]
  },
  {
   "cell_type": "code",
   "execution_count": null,
   "id": "dec3c5b7-aff3-4af8-91e3-ae00754c1668",
   "metadata": {},
   "outputs": [],
   "source": [
    "import smtplib\n",
    "\n",
    "# Sender's email credentials\n",
    "email = input(\"SENDER EMAIL: \")\n",
    "app_password = input(\"APP PASSWORD: \")\n",
    "\n",
    "# Email content\n",
    "subject = input(\"SUBJECT: \")\n",
    "message = input(\"MESSAGE: \")\n",
    "text = f\"Subject: {subject}\\n\\n{message}\"\n",
    "\n",
    "# Multiple receiver emails, comma-separated\n",
    "receiver_emails_input = input(\"RECEIVER EMAILS (comma-separated): \")\n",
    "receiver_emails = [email.strip() for email in receiver_emails_input.split(\",\")]\n",
    "\n",
    "# Connect to SMTP server\n",
    "server = smtplib.SMTP(\"smtp.gmail.com\", 587)\n",
    "server.starttls()\n",
    "\n",
    "# Login\n",
    "server.login(email, app_password)\n",
    "\n",
    "# Send email to each recipient\n",
    "for receiver in receiver_emails:\n",
    "    server.sendmail(email, receiver, text)\n",
    "    print(f\"✅ Email sent to {receiver}\")\n",
    "\n",
    "# Close connection\n",
    "server.quit()\n"
   ]
  },
  {
   "cell_type": "code",
   "execution_count": null,
   "id": "24f9d84e-2811-4f62-aa3b-ec32311b27e7",
   "metadata": {},
   "outputs": [],
   "source": []
  }
 ],
 "metadata": {
  "kernelspec": {
   "display_name": "Python 3 (ipykernel)",
   "language": "python",
   "name": "python3"
  },
  "language_info": {
   "codemirror_mode": {
    "name": "ipython",
    "version": 3
   },
   "file_extension": ".py",
   "mimetype": "text/x-python",
   "name": "python",
   "nbconvert_exporter": "python",
   "pygments_lexer": "ipython3",
   "version": "3.11.7"
  }
 },
 "nbformat": 4,
 "nbformat_minor": 5
}
