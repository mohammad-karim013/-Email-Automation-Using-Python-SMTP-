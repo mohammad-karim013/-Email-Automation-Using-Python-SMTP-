{
 "cells": [
  {
   "cell_type": "code",
   "execution_count": 20,
   "id": "f5e6ddf3-568b-4324-8393-3dfdd5e5c19a",
   "metadata": {},
   "outputs": [
    {
     "name": "stdin",
     "output_type": "stream",
     "text": [
      "SENDER EMAIL:  karimaazmi286@gmail.com\n",
      "RECEIVER EMAIL:  mdkarimaazmi@gmail.com\n",
      "SUBJECT:  job description\n",
      "MESSAGE:  kya kr rha hai bhai\n"
     ]
    },
    {
     "name": "stdout",
     "output_type": "stream",
     "text": [
      "Email has been sent to mdkarimaazmi@gmail.com\n"
     ]
    }
   ],
   "source": [
    "import smtplib\n",
    "\n",
    "# Get email details from user\n",
    "email = input(\"SENDER EMAIL: \")\n",
    "receiver_email = input(\"RECEIVER EMAIL: \")\n",
    "subject = input(\"SUBJECT: \")\n",
    "message = input(\"MESSAGE: \")\n",
    "\n",
    "# Construct the email content\n",
    "text = f\"Subject: {subject}\\n\\n{message}\"\n",
    "\n",
    "# Connect to Gmail SMTP server\n",
    "server = smtplib.SMTP(\"smtp.gmail.com\", 587)\n",
    "server.starttls()\n",
    "\n",
    "# Login with your App Password (not your Gmail password)\n",
    "server.login(email, \"fnmxqsmsgpfzrlwq\")\n",
    "\n",
    "# Send the email\n",
    "server.sendmail(email, receiver_email, text)\n",
    "\n",
    "# Close the connection\n",
    "\n",
    "server.quit()\n",
    "\n",
    "print(\"Email has been sent to \" + receiver_email)\n"
   ]
  },
  {
   "cell_type": "markdown",
   "id": "74e262d9-c8a3-4227-84c0-32a2afe95ceb",
   "metadata": {},
   "source": [
    "ial"
   ]
  },
  {
   "cell_type": "code",
   "execution_count": null,
   "id": "dec3c5b7-aff3-4af8-91e3-ae00754c1668",
   "metadata": {},
   "outputs": [
    {
     "name": "stdin",
     "output_type": "stream",
     "text": [
      "SENDER EMAIL:  karimaazmi286@gmail.com\n",
      "APP PASSWORD:  mdkarimaazmi@gmail.com\n",
      "SUBJECT:  data analyst\n"
     ]
    }
   ],
   "source": [
    "kaimport smtplib\n",
    "\n",
    "# Sender's email credentials\n",
    "email = input(\"SENDER EMAIL: \")\n",
    "app_password = input(\"APP PASSWORD: \")\n",
    "\n",
    "# Email content\n",
    "subject = input(\"SUBJECT: \")\n",
    "message = input(\"MESSAGE: \")\n",
    "text = f\"Subject: {subject}\\n\\n{message}\"\n",
    "\n",
    "# Multiple receiver emails, comma-separated\n",
    "receiver_emails_input = input(\"RECEIVER EMAILS (comma-separated): \")\n",
    "receiver_emails = [email.strip() for email in receiver_emails_input.split(\",\")]\n",
    "\n",
    "# Connect to SMTP server\n",
    "server = smtplib.SMTP(\"smtp.gmail.com\", 587)\n",
    "server.starttls()\n",
    "\n",
    "# Login\n",
    "server.login(email, app_password)\n",
    "\n",
    "# Send email to each recipient\n",
    "for receiver in receiver_emails:\n",
    "    server.sendmail(email, receiver, text)\n",
    "    print(f\"✅ Email sent to {receiver}\")\n",
    "\n",
    "# Close connection\n",
    "server.quit()\n"
   ]
  },
  {
   "cell_type": "code",
   "execution_count": null,
   "id": "24f9d84e-2811-4f62-aa3b-ec32311b27e7",
   "metadata": {},
   "outputs": [],
   "source": []
  }
 ],
 "metadata": {
  "kernelspec": {
   "display_name": "Python 3 (ipykernel)",
   "language": "python",
   "name": "python3"
  },
  "language_info": {
   "codemirror_mode": {
    "name": "ipython",
    "version": 3
   },
   "file_extension": ".py",
   "mimetype": "text/x-python",
   "name": "python",
   "nbconvert_exporter": "python",
   "pygments_lexer": "ipython3",
   "version": "3.11.7"
  }
 },
 "nbformat": 4,
 "nbformat_minor": 5
}
